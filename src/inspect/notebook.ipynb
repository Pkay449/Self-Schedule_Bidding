{
 "cells": [
  {
   "cell_type": "code",
   "execution_count": 15,
   "metadata": {},
   "outputs": [],
   "source": [
    "import numpy as np\n",
    "import matplotlib.pyplot as plt\n",
    "import pandas as pd\n",
    "import pickle as pkl"
   ]
  },
  {
   "cell_type": "code",
   "execution_count": 16,
   "metadata": {},
   "outputs": [
    {
     "name": "stdout",
     "output_type": "stream",
     "text": [
      "Are a and a1 equal? True\n",
      "Are b and b1 equal? True\n",
      "Are c and c1 equal? True\n",
      "Are d and d1 equal? True\n",
      "Are a and a1 equal? True\n",
      "Are b and b1 equal? True\n",
      "Are c and c1 equal? True\n",
      "Are d and d1 equal? True\n",
      "Are n_P_day_test and s_P_day_test equal? True\n",
      "Are n_P_intraday_test and s_P_intraday_test equal? True\n"
     ]
    }
   ],
   "source": [
    "with open('/Users/paulkelendji/Github_NoCloud/Self-Scheduled-Bidding/src/inspect/nfqca/da_data.pkl', 'rb') as file:\n",
    "    n_da_data = pkl.load(file)\n",
    "    \n",
    "with open('/Users/paulkelendji/Github_NoCloud/Self-Scheduled-Bidding/src/inspect/submission/da_data.pkl', 'rb') as file:\n",
    "    s_da_data = pkl.load(file)\n",
    "    \n",
    "a, b, c, d = n_da_data\n",
    "a1, b1, c1, d1 = s_da_data\n",
    "\n",
    "print(\"Are a and a1 equal?\", np.array_equal(a, a1))\n",
    "print(\"Are b and b1 equal?\", np.array_equal(b, b1))\n",
    "print(\"Are c and c1 equal?\", np.array_equal(c, c1))\n",
    "print(\"Are d and d1 equal?\", np.array_equal(d, d1))\n",
    "\n",
    "\n",
    "with open('/Users/paulkelendji/Github_NoCloud/Self-Scheduled-Bidding/src/inspect/nfqca/id_data.pkl', 'rb') as file:\n",
    "    n_id_data = pkl.load(file)\n",
    "    \n",
    "with open('/Users/paulkelendji/Github_NoCloud/Self-Scheduled-Bidding/src/inspect/submission/id_data.pkl', 'rb') as file:\n",
    "    s_id_data = pkl.load(file)\n",
    "    \n",
    "a, b, c, d = n_id_data\n",
    "a1, b1, c1, d1 = s_id_data\n",
    "\n",
    "print(\"Are a and a1 equal?\", np.array_equal(a, a1))\n",
    "print(\"Are b and b1 equal?\", np.array_equal(b, b1))\n",
    "print(\"Are c and c1 equal?\", np.array_equal(c, c1))\n",
    "print(\"Are d and d1 equal?\", np.array_equal(d, d1))\n",
    "\n",
    "n_P_day_test = np.load('/Users/paulkelendji/Github_NoCloud/Self-Scheduled-Bidding/src/inspect/nfqca/P_day_test.npy')\n",
    "s_P_day_test = np.load('/Users/paulkelendji/Github_NoCloud/Self-Scheduled-Bidding/src/inspect/submission/P_day_test.npy')\n",
    "\n",
    "print(\"Are n_P_day_test and s_P_day_test equal?\", np.array_equal(n_P_day_test, s_P_day_test))\n",
    "\n",
    "n_P_intraday_test = np.load('/Users/paulkelendji/Github_NoCloud/Self-Scheduled-Bidding/src/inspect/nfqca/P_intraday_test.npy')\n",
    "s_P_intraday_test = np.load('/Users/paulkelendji/Github_NoCloud/Self-Scheduled-Bidding/src/inspect/submission/P_intraday_test.npy')\n",
    "\n",
    "print(\"Are n_P_intraday_test and s_P_intraday_test equal?\", np.array_equal(n_P_intraday_test, s_P_intraday_test))\n"
   ]
  },
  {
   "cell_type": "code",
   "execution_count": null,
   "metadata": {},
   "outputs": [],
   "source": [
    "n_P_day_test = np.load('/Users/paulkelendji/Github_NoCloud/Self-Scheduled-Bidding/src/inspect/nfqca/P_day_test.npy')\n"
   ]
  },
  {
   "cell_type": "code",
   "execution_count": null,
   "metadata": {},
   "outputs": [],
   "source": []
  },
  {
   "cell_type": "code",
   "execution_count": null,
   "metadata": {},
   "outputs": [],
   "source": []
  }
 ],
 "metadata": {
  "kernelspec": {
   "display_name": "rloc_env",
   "language": "python",
   "name": "python3"
  },
  "language_info": {
   "codemirror_mode": {
    "name": "ipython",
    "version": 3
   },
   "file_extension": ".py",
   "mimetype": "text/x-python",
   "name": "python",
   "nbconvert_exporter": "python",
   "pygments_lexer": "ipython3",
   "version": "3.9.20"
  }
 },
 "nbformat": 4,
 "nbformat_minor": 2
}
